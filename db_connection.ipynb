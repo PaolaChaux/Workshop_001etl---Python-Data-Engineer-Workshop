{
 "cells": [
  {
   "cell_type": "code",
   "execution_count": 21,
   "metadata": {},
   "outputs": [],
   "source": [
    "import psycopg2\n",
    "import pandas as pd"
   ]
  },
  {
   "cell_type": "code",
   "execution_count": 23,
   "metadata": {},
   "outputs": [],
   "source": [
    "import psycopg2\n",
    "import json\n",
    "\n",
    "def create_connection():\n",
    "    try:\n",
    "        with open('db_config.json') as file:\n",
    "            config = json.load(file)\n",
    "        connection = psycopg2.connect(\n",
    "            host='localhost',\n",
    "            user=config[\"user\"],\n",
    "            password=config[\"password\"],\n",
    "            database=config[\"database\"]\n",
    "        )\n",
    "        print('Conexión exitosa!!')\n",
    "    except psycopg2.Error as e:\n",
    "        connection = None\n",
    "        print('No se puede conectar:', e)\n",
    "    return connection"
   ]
  },
  {
   "cell_type": "code",
   "execution_count": 27,
   "metadata": {},
   "outputs": [
    {
     "name": "stdout",
     "output_type": "stream",
     "text": [
      "Conexión exitosa!!\n",
      "Tabla creada con éxito.\n"
     ]
    }
   ],
   "source": [
    "def crear_tabla():\n",
    "    connection = create_connection()\n",
    "    if connection is not None:\n",
    "        try:\n",
    "            cursor = connection.cursor()\n",
    "            cursor.execute(\"\"\"\n",
    "                CREATE TABLE IF NOT EXISTS Candidates (\n",
    "                        CandidateID SERIAL PRIMARY KEY,\n",
    "                        First_Name VARCHAR(255) NOT NULL,\n",
    "                        Last_Name VARCHAR(255) NOT NULL,\n",
    "                        Email VARCHAR(255) NOT NULL,\n",
    "                        ApplicationDate DATE NOT NULL,\n",
    "                        Country VARCHAR(255) NOT NULL,\n",
    "                        YearsOfExperience INT NOT NULL,\n",
    "                        SeniorityLevel VARCHAR(255) NOT NULL,\n",
    "                        TechnologyStack VARCHAR(255) NOT NULL,\n",
    "                        CodeChallengeScore SMALLINT NOT NULL,\n",
    "                        TechnicalInterviewScore SMALLINT NOT NULL,\n",
    "                        IsHired BOOLEAN NOT NULL\n",
    "                    );\n",
    "                \"\"\")\n",
    "            connection.commit()\n",
    "            print(\"Tabla creada con éxito.\")\n",
    "        except psycopg2.Error as e:\n",
    "            print(f\"Error al crear la tabla: {e}\")\n",
    "        finally:\n",
    "            cursor.close()\n",
    "            connection.close()\n",
    "    else:\n",
    "        print(\"No se pudo establecer la conexión con la base de datos.\")\n",
    "        \n",
    "crear_tabla()\n"
   ]
  },
  {
   "cell_type": "code",
   "execution_count": 28,
   "metadata": {},
   "outputs": [],
   "source": [
    "df = pd.read_csv('candidates.csv', sep=';')"
   ]
  },
  {
   "cell_type": "code",
   "execution_count": 29,
   "metadata": {},
   "outputs": [
    {
     "name": "stdout",
     "output_type": "stream",
     "text": [
      "Conexión exitosa!!\n",
      "Datos insertados exitosamente\n"
     ]
    }
   ],
   "source": [
    "connection = create_connection()\n",
    "def insertar_datos(df):\n",
    "    cursor = connection.cursor()\n",
    "    query = \"\"\"\n",
    "    INSERT INTO Candidates (First_Name, Last_Name, Email, ApplicationDate, Country, YearsOfExperience, SeniorityLevel, TechnologyStack, CodeChallengeScore, TechnicalInterviewScore, IsHired)\n",
    "    VALUES (%s, %s, %s, %s, %s, %s, %s, %s, %s, %s, %s)\n",
    "    \"\"\"\n",
    "    try:\n",
    "        for index, row in df.iterrows():\n",
    "            is_hired = row['Code Challenge Score'] >= 7 and row['Technical Interview Score'] >= 7\n",
    "\n",
    "            data = (row[\"First Name\"], row[\"Last Name\"], row[\"Email\"], row[\"Application Date\"], row[\"Country\"],\n",
    "                    row[\"YOE\"], row[\"Seniority\"], row[\"Technology\"], row[\"Code Challenge Score\"], row[\"Technical Interview Score\"], is_hired)\n",
    "            cursor.execute(query, data)\n",
    "        connection.commit()\n",
    "        print(\"Datos insertados exitosamente\")\n",
    "    except (Exception, psycopg2.DatabaseError) as error:\n",
    "        print(error)\n",
    "    finally:\n",
    "        cursor.close()\n",
    "        connection.close()\n",
    "        \n",
    "insertar_datos(df)"
   ]
  }
 ],
 "metadata": {
  "kernelspec": {
   "display_name": "Python 3",
   "language": "python",
   "name": "python3"
  },
  "language_info": {
   "codemirror_mode": {
    "name": "ipython",
    "version": 3
   },
   "file_extension": ".py",
   "mimetype": "text/x-python",
   "name": "python",
   "nbconvert_exporter": "python",
   "pygments_lexer": "ipython3",
   "version": "3.11.5"
  }
 },
 "nbformat": 4,
 "nbformat_minor": 2
}
