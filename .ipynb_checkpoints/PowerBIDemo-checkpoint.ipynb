{
 "cells": [
  {
   "cell_type": "code",
   "execution_count": 8,
   "metadata": {},
   "outputs": [],
   "source": [
    "from powerbiclient import QuickVisualize, get_dataset_config, Report\n",
    "from powerbiclient.authentication import DeviceCodeLoginAuthentication\n",
    "\n",
    "import pandas as pd"
   ]
  },
  {
   "cell_type": "code",
   "execution_count": 9,
   "metadata": {},
   "outputs": [
    {
     "name": "stdout",
     "output_type": "stream",
     "text": [
      "Performing device flow authentication. Please follow the instructions below.\n",
      "To sign in, use a web browser to open the page https://microsoft.com/devicelogin and enter the code PUZZ7MWRD to authenticate.\n",
      "\n",
      "Device flow authentication successfully completed.\n",
      "You are now logged in .\n",
      "\n",
      "The result should be passed only to trusted code in your notebook.\n"
     ]
    }
   ],
   "source": [
    "device_auth = DeviceCodeLoginAuthentication()"
   ]
  },
  {
   "cell_type": "code",
   "execution_count": 10,
   "metadata": {},
   "outputs": [
    {
     "data": {
      "text/html": [
       "<div>\n",
       "<style scoped>\n",
       "    .dataframe tbody tr th:only-of-type {\n",
       "        vertical-align: middle;\n",
       "    }\n",
       "\n",
       "    .dataframe tbody tr th {\n",
       "        vertical-align: top;\n",
       "    }\n",
       "\n",
       "    .dataframe thead th {\n",
       "        text-align: right;\n",
       "    }\n",
       "</style>\n",
       "<table border=\"1\" class=\"dataframe\">\n",
       "  <thead>\n",
       "    <tr style=\"text-align: right;\">\n",
       "      <th></th>\n",
       "      <th>Country Name</th>\n",
       "      <th>1999</th>\n",
       "      <th>2000</th>\n",
       "      <th>2001</th>\n",
       "      <th>2002</th>\n",
       "      <th>2003</th>\n",
       "      <th>2004</th>\n",
       "      <th>2005</th>\n",
       "      <th>2006</th>\n",
       "      <th>2007</th>\n",
       "      <th>2008</th>\n",
       "      <th>2009</th>\n",
       "      <th>2010</th>\n",
       "      <th>2011</th>\n",
       "      <th>2012</th>\n",
       "      <th>2013</th>\n",
       "      <th>2014</th>\n",
       "      <th>2015</th>\n",
       "      <th>2016</th>\n",
       "    </tr>\n",
       "  </thead>\n",
       "  <tbody>\n",
       "    <tr>\n",
       "      <th>0</th>\n",
       "      <td>Canada</td>\n",
       "      <td>30499200</td>\n",
       "      <td>30769700</td>\n",
       "      <td>31081900</td>\n",
       "      <td>31362000</td>\n",
       "      <td>31676000</td>\n",
       "      <td>31995000</td>\n",
       "      <td>32312000</td>\n",
       "      <td>32570505</td>\n",
       "      <td>32887928</td>\n",
       "      <td>33245773</td>\n",
       "      <td>33628571</td>\n",
       "      <td>34005274</td>\n",
       "      <td>34342780</td>\n",
       "      <td>34754312</td>\n",
       "      <td>35158304</td>\n",
       "      <td>35540419</td>\n",
       "      <td>35540419</td>\n",
       "      <td>35540419</td>\n",
       "    </tr>\n",
       "    <tr>\n",
       "      <th>1</th>\n",
       "      <td>Germany</td>\n",
       "      <td>82100243</td>\n",
       "      <td>82211508</td>\n",
       "      <td>82349925</td>\n",
       "      <td>82488495</td>\n",
       "      <td>82534176</td>\n",
       "      <td>82516260</td>\n",
       "      <td>82469422</td>\n",
       "      <td>82376451</td>\n",
       "      <td>82266372</td>\n",
       "      <td>82110097</td>\n",
       "      <td>81902307</td>\n",
       "      <td>81776930</td>\n",
       "      <td>81797673</td>\n",
       "      <td>80425823</td>\n",
       "      <td>80645605</td>\n",
       "      <td>80889505</td>\n",
       "      <td>80889505</td>\n",
       "      <td>80889505</td>\n",
       "    </tr>\n",
       "    <tr>\n",
       "      <th>2</th>\n",
       "      <td>France</td>\n",
       "      <td>60496715</td>\n",
       "      <td>60912498</td>\n",
       "      <td>61357431</td>\n",
       "      <td>61805267</td>\n",
       "      <td>62244884</td>\n",
       "      <td>62704897</td>\n",
       "      <td>63179356</td>\n",
       "      <td>63621376</td>\n",
       "      <td>64016229</td>\n",
       "      <td>64374990</td>\n",
       "      <td>64707044</td>\n",
       "      <td>65027512</td>\n",
       "      <td>65342776</td>\n",
       "      <td>65639975</td>\n",
       "      <td>65925498</td>\n",
       "      <td>66206930</td>\n",
       "      <td>66206930</td>\n",
       "      <td>66206930</td>\n",
       "    </tr>\n",
       "    <tr>\n",
       "      <th>3</th>\n",
       "      <td>Mexico</td>\n",
       "      <td>101266570</td>\n",
       "      <td>102808590</td>\n",
       "      <td>104239563</td>\n",
       "      <td>105578297</td>\n",
       "      <td>106888418</td>\n",
       "      <td>108257822</td>\n",
       "      <td>109747906</td>\n",
       "      <td>111382857</td>\n",
       "      <td>113139374</td>\n",
       "      <td>114972821</td>\n",
       "      <td>116815612</td>\n",
       "      <td>118617542</td>\n",
       "      <td>120365271</td>\n",
       "      <td>122070963</td>\n",
       "      <td>123740109</td>\n",
       "      <td>125385833</td>\n",
       "      <td>125385833</td>\n",
       "      <td>125385833</td>\n",
       "    </tr>\n",
       "    <tr>\n",
       "      <th>4</th>\n",
       "      <td>USA</td>\n",
       "      <td>279040000</td>\n",
       "      <td>282162411</td>\n",
       "      <td>284968955</td>\n",
       "      <td>287625193</td>\n",
       "      <td>290107933</td>\n",
       "      <td>292805298</td>\n",
       "      <td>295516599</td>\n",
       "      <td>298379912</td>\n",
       "      <td>301231207</td>\n",
       "      <td>304093966</td>\n",
       "      <td>306771529</td>\n",
       "      <td>309347057</td>\n",
       "      <td>311721632</td>\n",
       "      <td>314112078</td>\n",
       "      <td>316497531</td>\n",
       "      <td>318857056</td>\n",
       "      <td>318857056</td>\n",
       "      <td>318857056</td>\n",
       "    </tr>\n",
       "  </tbody>\n",
       "</table>\n",
       "</div>"
      ],
      "text/plain": [
       "  Country Name       1999       2000       2001       2002       2003  \\\n",
       "0       Canada   30499200   30769700   31081900   31362000   31676000   \n",
       "1      Germany   82100243   82211508   82349925   82488495   82534176   \n",
       "2       France   60496715   60912498   61357431   61805267   62244884   \n",
       "3       Mexico  101266570  102808590  104239563  105578297  106888418   \n",
       "4          USA  279040000  282162411  284968955  287625193  290107933   \n",
       "\n",
       "        2004       2005       2006       2007       2008       2009  \\\n",
       "0   31995000   32312000   32570505   32887928   33245773   33628571   \n",
       "1   82516260   82469422   82376451   82266372   82110097   81902307   \n",
       "2   62704897   63179356   63621376   64016229   64374990   64707044   \n",
       "3  108257822  109747906  111382857  113139374  114972821  116815612   \n",
       "4  292805298  295516599  298379912  301231207  304093966  306771529   \n",
       "\n",
       "        2010       2011       2012       2013       2014       2015       2016  \n",
       "0   34005274   34342780   34754312   35158304   35540419   35540419   35540419  \n",
       "1   81776930   81797673   80425823   80645605   80889505   80889505   80889505  \n",
       "2   65027512   65342776   65639975   65925498   66206930   66206930   66206930  \n",
       "3  118617542  120365271  122070963  123740109  125385833  125385833  125385833  \n",
       "4  309347057  311721632  314112078  316497531  318857056  318857056  318857056  "
      ]
     },
     "execution_count": 10,
     "metadata": {},
     "output_type": "execute_result"
    }
   ],
   "source": [
    "# Import sample CSV as a pandas DataFrame\n",
    "df = pd.read_csv('c:\\Data\\CountryPopulationbyYear.csv')\n",
    "\n",
    "# Display DataFrame\n",
    "df.head()"
   ]
  },
  {
   "cell_type": "code",
   "execution_count": 11,
   "metadata": {},
   "outputs": [],
   "source": [
    "# Create a Power BI report from your data\n",
    "PBI_visualize = QuickVisualize(get_dataset_config(df), auth=device_auth)"
   ]
  },
  {
   "cell_type": "code",
   "execution_count": 12,
   "metadata": {},
   "outputs": [
    {
     "data": {
      "application/vnd.jupyter.widget-view+json": {
       "model_id": "da44ce46aa0d4be9a22a5fd87ccc2b0e",
       "version_major": 2,
       "version_minor": 0
      },
      "text/plain": [
       "QuickVisualize()"
      ]
     },
     "metadata": {},
     "output_type": "display_data"
    }
   ],
   "source": [
    "PBI_visualize\n"
   ]
  },
  {
   "cell_type": "code",
   "execution_count": null,
   "metadata": {},
   "outputs": [],
   "source": [
    "group_id = \"a022b415-a64f-4890-a3ab-2f00be9d10b4\"\n",
    "report_id = \"4963cf58-fb77-4241-8c89-942a5c41d15d\"\n",
    "report = Report(group_id=group_id, report_id=report_id, auth=device_auth)"
   ]
  },
  {
   "cell_type": "code",
   "execution_count": null,
   "metadata": {},
   "outputs": [],
   "source": [
    "report"
   ]
  },
  {
   "cell_type": "code",
   "execution_count": null,
   "metadata": {},
   "outputs": [],
   "source": []
  }
 ],
 "metadata": {
  "kernelspec": {
   "display_name": "base",
   "language": "python",
   "name": "python3"
  },
  "language_info": {
   "codemirror_mode": {
    "name": "ipython",
    "version": 3
   },
   "file_extension": ".py",
   "mimetype": "text/x-python",
   "name": "python",
   "nbconvert_exporter": "python",
   "pygments_lexer": "ipython3",
   "version": "3.9.7"
  },
  "orig_nbformat": 4
 },
 "nbformat": 4,
 "nbformat_minor": 2
}
